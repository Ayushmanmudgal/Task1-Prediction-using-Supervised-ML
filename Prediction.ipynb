{
  "nbformat": 4,
  "nbformat_minor": 0,
  "metadata": {
    "colab": {
      "name": "Prediction.ipynb",
      "provenance": [],
      "authorship_tag": "ABX9TyONExUbZGJfsrbENIqdLiwe",
      "include_colab_link": true
    },
    "kernelspec": {
      "name": "python3",
      "display_name": "Python 3"
    },
    "language_info": {
      "name": "python"
    }
  },
  "cells": [
    {
      "cell_type": "markdown",
      "metadata": {
        "id": "view-in-github",
        "colab_type": "text"
      },
      "source": [
        "<a href=\"https://colab.research.google.com/github/Ayushmanmudgal/Task1-Prediction-using-Supervised-ML/blob/main/Prediction.ipynb\" target=\"_parent\"><img src=\"https://colab.research.google.com/assets/colab-badge.svg\" alt=\"Open In Colab\"/></a>"
      ]
    },
    {
      "cell_type": "markdown",
      "metadata": {
        "id": "YCsRExAB7cBy"
      },
      "source": [
        "\n",
        "## **Hello Everyone, this is Ayushman Mudgal**"
      ]
    },
    {
      "cell_type": "markdown",
      "metadata": {
        "id": "6R64qQzeP3RJ"
      },
      "source": [
        "## **The Sparks Foundation**\n",
        "\n",
        "## **Task 1: Marks prediction Linear Regression model**"
      ]
    },
    {
      "cell_type": "code",
      "metadata": {
        "id": "CKCMM_6zP_6f"
      },
      "source": [
        "#import all the required libraries\n",
        "import pandas as pd\n",
        "import numpy as np\n",
        "import matplotlib.pyplot as plt\n",
        "import sklearn\n"
      ],
      "execution_count": null,
      "outputs": []
    },
    {
      "cell_type": "code",
      "metadata": {
        "colab": {
          "base_uri": "https://localhost:8080/"
        },
        "id": "xgIJEpl6Qfrp",
        "outputId": "19d40b0c-70e7-46d8-f3f9-37e66bd403f4"
      },
      "source": [
        "# importing data from the gven URL\n",
        "url='https://raw.githubusercontent.com/AdiPersonalWorks/Random/master/student_scores%20-%20student_scores.csv'\n",
        "ds=pd.read_csv(url)\n",
        "print(ds)"
      ],
      "execution_count": null,
      "outputs": [
        {
          "output_type": "stream",
          "text": [
            "    Hours  Scores\n",
            "0     2.5      21\n",
            "1     5.1      47\n",
            "2     3.2      27\n",
            "3     8.5      75\n",
            "4     3.5      30\n",
            "5     1.5      20\n",
            "6     9.2      88\n",
            "7     5.5      60\n",
            "8     8.3      81\n",
            "9     2.7      25\n",
            "10    7.7      85\n",
            "11    5.9      62\n",
            "12    4.5      41\n",
            "13    3.3      42\n",
            "14    1.1      17\n",
            "15    8.9      95\n",
            "16    2.5      30\n",
            "17    1.9      24\n",
            "18    6.1      67\n",
            "19    7.4      69\n",
            "20    2.7      30\n",
            "21    4.8      54\n",
            "22    3.8      35\n",
            "23    6.9      76\n",
            "24    7.8      86\n"
          ],
          "name": "stdout"
        }
      ]
    },
    {
      "cell_type": "code",
      "metadata": {
        "colab": {
          "base_uri": "https://localhost:8080/",
          "height": 295
        },
        "id": "Q7mYmJ-hUboC",
        "outputId": "ea76dca8-42ce-4b75-a14c-98a60938c855"
      },
      "source": [
        "# ploting the graph with the given data\n",
        "ds.plot(x='Hours', y='Scores', style='*')  \n",
        "plt.title('Hours vs Percentage graph representation')  \n",
        "plt.xlabel('Hours studied')  \n",
        "plt.ylabel('Percentage Score')  \n",
        "plt.show()"
      ],
      "execution_count": null,
      "outputs": [
        {
          "output_type": "display_data",
          "data": {
            "image/png": "[encoded data removed]",
            "text/plain": [
              "<Figure size 432x288 with 1 Axes>"
            ]
          },
          "metadata": {
            "tags": [],
            "needs_background": "light"
          }
        }
      ]
    },
    {
      "cell_type": "code",
      "metadata": {
        "id": "bTNEzrYESCp-"
      },
      "source": [
        "#Assigning the deoending variable to Y and independent varaible to X respectively\n",
        "X = ds.iloc[:, :-1].values  \n",
        "Y = ds.iloc[:, 1].values  \n"
      ],
      "execution_count": null,
      "outputs": []
    },
    {
      "cell_type": "code",
      "metadata": {
        "id": "5mBTtFB2SczD"
      },
      "source": [
        "# dividing the gievn dat into trainng and testing set with the given ratio\n",
        "from sklearn.model_selection import train_test_split\n",
        "X_train,X_test,Y_train,Y_test=train_test_split(X,Y,test_size=0.4,random_state=5)\n"
      ],
      "execution_count": null,
      "outputs": []
    },
    {
      "cell_type": "code",
      "metadata": {
        "colab": {
          "base_uri": "https://localhost:8080/"
        },
        "id": "hAxtjkxETDta",
        "outputId": "f27fadbb-b404-4552-d763-04812fc7b924"
      },
      "source": [
        "#fit the given data into the imported Linear Regression model\n",
        "\n",
        "from sklearn.linear_model import LinearRegression  \n",
        "predict_model = LinearRegression()\n",
        "predict_model.fit(X_train,Y_train) "
      ],
      "execution_count": null,
      "outputs": [
        {
          "output_type": "execute_result",
          "data": {
            "text/plain": [
              "LinearRegression(copy_X=True, fit_intercept=True, n_jobs=None, normalize=False)"
            ]
          },
          "metadata": {
            "tags": []
          },
          "execution_count": 35
        }
      ]
    },
    {
      "cell_type": "code",
      "metadata": {
        "colab": {
          "base_uri": "https://localhost:8080/",
          "height": 265
        },
        "id": "DlVi_2IAdLbS",
        "outputId": "bf53ffeb-9fcf-41be-b0ed-1086a0fef69f"
      },
      "source": [
        "line = predict_model.coef_*X+predict_model.intercept_\n",
        "\n",
        "# Plotting for the test data\n",
        "plt.scatter(X, Y)\n",
        "plt.plot(X, line);\n",
        "plt.show()"
      ],
      "execution_count": null,
      "outputs": [
        {
          "output_type": "display_data",
          "data": {
            "image/png": "[encoded data removed]",
            "text/plain": [
              "<Figure size 432x288 with 1 Axes>"
            ]
          },
          "metadata": {
            "tags": [],
            "needs_background": "light"
          }
        }
      ]
    },
    {
      "cell_type": "code",
      "metadata": {
        "id": "XOTKwUseaDUi"
      },
      "source": [
        "#predicting the scores on the given test sample \n",
        "Y_pred_test=predict_model.predict(X_test)"
      ],
      "execution_count": null,
      "outputs": []
    },
    {
      "cell_type": "code",
      "metadata": {
        "colab": {
          "base_uri": "https://localhost:8080/"
        },
        "id": "bgpn9noeaWcT",
        "outputId": "d98ebc15-ea8a-475e-e4df-8a4eb32ee4dc"
      },
      "source": [
        "# Comparing the Predicted tested scores and the actual test scores\n",
        "df=pd.DataFrame(Y_pred_test,Y_test)\n",
        "print(df.head())"
      ],
      "execution_count": null,
      "outputs": [
        {
          "output_type": "stream",
          "text": [
            "            0\n",
            "69  73.668762\n",
            "67  61.347807\n",
            "27  33.862599\n",
            "85  76.512059\n",
            "54  49.026852\n"
          ],
          "name": "stdout"
        }
      ]
    },
    {
      "cell_type": "code",
      "metadata": {
        "colab": {
          "base_uri": "https://localhost:8080/"
        },
        "id": "-lxxPAmWfqOC",
        "outputId": "3a1f8a50-847b-4553-8f11-cf01f09b404a"
      },
      "source": [
        "\n",
        "#Test model when hours is 9.25\n",
        "\n",
        "Y_pred=predict_model.predict([[9.25]])\n",
        "print(\"the predicted score for the given hours is: \",Y_pred)"
      ],
      "execution_count": null,
      "outputs": [
        {
          "output_type": "stream",
          "text": [
            "the predicted score for the given hours is:  [91.20242921]\n"
          ],
          "name": "stdout"
        }
      ]
    },
    {
      "cell_type": "code",
      "metadata": {
        "colab": {
          "base_uri": "https://localhost:8080/"
        },
        "id": "4rfjyFrA2xKE",
        "outputId": "e5be941e-70cb-41b8-e9ce-5990bb1dd5bf"
      },
      "source": [
        "# Predicting th error between the actual and the predected result\n",
        "from sklearn import metrics  \n",
        "print('Mean Absolute Error:', \n",
        "      metrics.mean_absolute_error(Y_test, Y_pred_test)) "
      ],
      "execution_count": null,
      "outputs": [
        {
          "output_type": "stream",
          "text": [
            "Mean Absolute Error: 5.362534157825192\n"
          ],
          "name": "stdout"
        }
      ]
    }
  ]
}